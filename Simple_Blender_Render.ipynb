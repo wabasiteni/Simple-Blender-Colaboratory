{
  "nbformat": 4,
  "nbformat_minor": 0,
  "metadata": {
    "colab": {
      "provenance": [],
      "gpuType": "T4",
      "include_colab_link": true
    },
    "kernelspec": {
      "name": "python3",
      "display_name": "Python 3"
    },
    "language_info": {
      "name": "python"
    },
    "accelerator": "GPU"
  },
  "cells": [
    {
      "cell_type": "markdown",
      "metadata": {
        "id": "view-in-github",
        "colab_type": "text"
      },
      "source": [
        "<a href=\"https://colab.research.google.com/github.com/wabasiteni/Simple-Blender-Colaboratory/blob/main/Simple_Blender_Render.ipynb\" target=\"_parent\"><img src=\"https://colab.research.google.com/assets/colab-badge.svg\" alt=\"Open In Colab\"/></a>"
      ]
    },
    {
      "cell_type": "markdown",
      "source": [
        "![alt_text](https://repository-images.githubusercontent.com/656952604/b1ae251b-033f-48d7-a355-4cb880936ef2)\n",
        "\n",
        "# **Render Blender file using Colaboratory**\n",
        "* Only Up to **Blender 4.0.2** are available in the dictionary. 📚\n",
        "* Add your own version of Blender from the [Blender Repository](https://ftp.nluug.nl/pub/graphics/blender/release). 👷\n",
        "\n",
        "## **🗒️ Notes:**\n",
        "* Open `Files` tab on the left side of the web. 📂\n",
        "* To copy folder or file's path, click on three dots on the right side of the file/folder inside the `Files` tab, `Copy path`. 🗄️\n",
        "* Colab did not recognize file with space inside the filename, I recommend you to rename your file. *ex.* `\"My Scene.blend\"` to `\"My_Scene.blend\"`. 📝\n",
        "* If you upload your .blend file directly from Colab, wait until it finishes uploading before running the first cell. 🔽\n",
        "* If you encounter any issues or have suggestions, please let me know on **GitHub**. Thank you. 🤗\n",
        "\n",
        "\n",
        "\n",
        "## **🎛️ Parameters:**\n",
        "---\n",
        "\n",
        "**🟠 Blender Options**\n",
        "* 👷🛠️ `blender_version`: Blender version you are working with. Opening an older version of the blend file in a newer version is supported.\n",
        "* 🗃️✍️ `project_name`: Your project name for better organization in the files tab.\n",
        "* 📂🚶 `blend_file_path`: Path to your .blend file.\n",
        "* 🔺📬 `gdrive_output` : All rendered will be save directly to your mounted Google Drive; Run `Mount Google Drive`\n",
        "* 🗂️🔺 `organize_gdrive` : Move the original blend file to the auto-created project folder\n",
        "\n",
        "---\n",
        "\n",
        "**🟢 Rendering Options:**\n",
        "* 🎞️📼 `animation`: Specify whether you want to render an animation or a still image. If using a still image, provide the frame number in `start_frame`.\n",
        "* 1️⃣ `start_frame`, 🔟 `end_frame`: Specify the start and end frames for an animation. You can set both values to the same frame number (e.g., 0) to use the default frame in the blend file.\n",
        "\n",
        "---\n",
        "\n",
        "**🔵 GPU & CPU Rendering:**\n",
        "* 🎬🖥️ `gpu_enabled`: Render using GPU. Run the `\"Enable GPU Rendering\"` cell.\n",
        "* 🖥️🖱️ `cpu_enabled`: May slightly boost render performance.\n",
        "\n",
        "**💿 OptiX Rendering:**\n",
        "* 💽✅ `optix_enabled`: Enable OptiX Rendering Technology, which is faster than CUDA. Note that compatibility depends on the version of Blender, the project, and the allocated GPU.\n",
        "\n"
      ],
      "metadata": {
        "id": "DXQwKCpBDK6f"
      }
    },
    {
      "cell_type": "code",
      "source": [
        "#@title Mount Google Drive\n",
        "from google.colab import drive\n",
        "\n",
        "drive.mount(\"/content/drive\", force_remount=True)"
      ],
      "metadata": {
        "cellView": "form",
        "id": "LQ3E85DYnjYn"
      },
      "execution_count": null,
      "outputs": []
    },
    {
      "cell_type": "code",
      "source": [
        "#@title # **Forms**\n",
        "\n",
        "#@markdown\n",
        "#@markdown ## **Blender Options**\n",
        "blender_version = '4.0.2' #@param ['3.0.1','3.1.2','3.2.2' ,'3.3.8','3.4.1' , '3.5.1', '3.6.0', '4.0.2'] {allow-input: false}\n",
        "project_name = 'Project_Name' #@param {type: 'string'}\n",
        "blend_file_path = '/content/Your_Blender_File.blend' #@param {type: 'string'}\n",
        "gdrive_output = False #@param {type:\"boolean\"}\n",
        "organize_gdrive = False #@param {type:\"boolean\"}\n",
        "#@markdown ---\n",
        "#@markdown ## **Frame Options**\n",
        "animation = False #@param {type: 'boolean'}\n",
        "start_frame =  0#@param {type: 'integer'}\n",
        "end_frame =  100#@param {type: 'integer'}\n",
        "#@markdown ---\n",
        "#@markdown ## **Rendering Options**\n",
        "gpu_enabled = True #@param {type:\"boolean\"}\n",
        "optix_enabled = False #@param {type:\"boolean\"}\n",
        "cpu_enabled = False #@param {type:\"boolean\"}\n",
        "#@markdown\n",
        "\n",
        "import os\n",
        "from google.colab import drive\n",
        "\n",
        "!mkdir -p /content/$project_name 2>&1 | awk '/exists/{print \"Project folder already exists. Go continue your work :)\"}'\n",
        "!mkdir -p /content/$project_name/rendered 2>/dev/null\n",
        "!mkdir -p /content/$project_name/blend 2>/dev/null\n",
        "!cp $blend_file_path /content/$project_name/blend 2>/dev/null\n",
        "!rm -r /content/sample_data 2>/dev/null\n",
        "\n",
        "blend_file = os.path.basename(blend_file_path)\n",
        "\n",
        "if gdrive_output or organize_gdrive:\n",
        "    if os.path.exists('/content/drive'):\n",
        "      pass\n",
        "    else:\n",
        "      drive.mount('/content/drive', force_remount=True)\n",
        "\n",
        "if gdrive_output:\n",
        "  !mkdir /content/drive/MyDrive/BlenderColab 2>&1 | awk '/exists/{print \"BlenderColab folder already exists. Go continue your work :)\"}'\n",
        "  !mkdir /content/drive/MyDrive/BlenderColab/$project_name 2>/dev/null\n",
        "  !mkdir /content/drive/MyDrive/BlenderColab/$project_name/rendered 2>/dev/null\n",
        "\n",
        "if organize_gdrive:\n",
        "    if \"/content/drive/MyDrive\" in blend_file_path:\n",
        "        !mkdir /content/drive/MyDrive/BlenderColab/$project_name/blend 2>/dev/null\n",
        "        !mv $blend_file_path /content/drive/MyDrive/BlenderColab/$project_name/blend 2>/dev/null\n",
        "    else:\n",
        "        valid_input = False\n",
        "        while not valid_input:\n",
        "            user_input = input(\"Do you want to move the blend file into your Google Drive? (Y/N): \")\n",
        "            if user_input.lower() == \"y\":\n",
        "                !mv $blend_file_path /content/drive/MyDrive/BlenderColab/$project_name/blend\n",
        "                print(\"The blend file has been moved to your Google Drive to be organized :)\")\n",
        "                valid_input = True\n",
        "            elif user_input.lower() == \"n\":\n",
        "                valid_input = True\n",
        "                # Do nothing\n",
        "            else:\n",
        "                print(\"Invalid input. Please enter either Y or N.\")\n"
      ],
      "metadata": {
        "id": "jgLYv29-jj8r",
        "cellView": "form"
      },
      "execution_count": null,
      "outputs": []
    },
    {
      "cell_type": "code",
      "source": [
        "#@title NVIDIA GPU Check\n",
        "gpu = !nvidia-smi --query-gpu=gpu_name --format=csv,noheader\n",
        "print(\"Current GPU: \" + gpu[0])\n",
        "\n",
        "if gpu[0] == \"Tesla K80\" and optix_enabled:\n",
        "  print(\"OptiX disabled because of unsupported GPU\")\n",
        "  optix_enabled = False"
      ],
      "metadata": {
        "cellView": "form",
        "id": "A6KG2eHIl8bO"
      },
      "execution_count": null,
      "outputs": []
    },
    {
      "cell_type": "code",
      "execution_count": null,
      "metadata": {
        "cellView": "form",
        "id": "TbhlhlnGiiA5"
      },
      "outputs": [],
      "source": [
        "#@title Blender (Add your own version here)\n",
        "# Add your own version of blender from https://ftp.nluug.nl/pub/graphics/blender/release\n",
        "blender_url_dict = {'3.0.1'   : \"https://ftp.nluug.nl/pub/graphics/blender/release/Blender3.0/blender-3.0.1-linux-x64.tar.xz\",\n",
        "                    '3.1.2'   : \"https://ftp.nluug.nl/pub/graphics/blender/release/Blender3.1/blender-3.1.2-linux-x64.tar.xz\",\n",
        "                    '3.2.2'   : \"https://ftp.nluug.nl/pub/graphics/blender/release/Blender3.2/blender-3.2.2-linux-x64.tar.xz\",\n",
        "                    '3.3.8'   : \"https://ftp.nluug.nl/pub/graphics/blender/release/Blender3.3/blender-3.3.8-linux-x64.tar.xz\",\n",
        "                    '3.4.1'   : \"https://ftp.nluug.nl/pub/graphics/blender/release/Blender3.4/blender-3.4.1-linux-x64.tar.xz\",\n",
        "                    '3.5.1'   : \"https://ftp.nluug.nl/pub/graphics/blender/release/Blender3.5/blender-3.5.1-linux-x64.tar.xz\",\n",
        "                    '3.6.0'   : \"https://ftp.nluug.nl/pub/graphics/blender/release/Blender3.6/blender-3.6.0-linux-x64.tar.xz\",\n",
        "                    '4.0.2'   : \"https://ftp.nluug.nl/pub/graphics/blender/release/Blender4.0/blender-4.0.2-linux-x64.tar.xz\"}\n",
        "\n",
        "import os\n",
        "\n",
        "blender_url = blender_url_dict[blender_version]\n",
        "base_url = os.path.basename(blender_url)\n",
        "\n",
        "!mkdir $blender_version\n",
        "!wget -nc $blender_url\n",
        "!tar -xkf $base_url -C ./$blender_version --strip-components=1\n",
        "!rm /content/blender-$blender_version-linux-x64.tar.xz"
      ]
    },
    {
      "cell_type": "code",
      "source": [
        "#@title Enable GPU rendering (add here for Custom Properties)\n",
        "data = \"import re\\n\"+\\\n",
        "    \"import bpy\\n\"+\\\n",
        "    \"scene = bpy.context.scene\\n\"+\\\n",
        "    \"scene.cycles.device = 'GPU'\\n\"+\\\n",
        "    \"prefs = bpy.context.preferences\\n\"+\\\n",
        "    \"prefs.addons['cycles'].preferences.get_devices()\\n\"+\\\n",
        "    \"cprefs = prefs.addons['cycles'].preferences\\n\"+\\\n",
        "    \"print(cprefs)\\n\"+\\\n",
        "    \"for compute_device_type in ('CUDA', 'OPENCL', 'NONE'):\\n\"+\\\n",
        "    \"    try:\\n\"+\\\n",
        "    \"        cprefs.compute_device_type = compute_device_type\\n\"+\\\n",
        "    \"        print('Device found:',compute_device_type)\\n\"+\\\n",
        "    \"        break\\n\"+\\\n",
        "    \"    except TypeError:\\n\"+\\\n",
        "    \"        pass\\n\"+\\\n",
        "    \"for device in cprefs.devices:\\n\"+\\\n",
        "    \"    if not re.match('intel', device.name, re.I):\\n\"+\\\n",
        "    \"        print('Activating',device)\\n\"+\\\n",
        "    \"        device.use = \"+str(gpu_enabled)+\"\\n\"+\\\n",
        "    \"    else:\\n\"+\\\n",
        "    \"        device.use = \"+str(cpu_enabled)+\"\\n\"\n",
        "with open('setgpu.py', 'w') as f:\n",
        "    f.write(data)\n",
        "\n",
        "renderer = \"CUDA\"\n",
        "if optix_enabled:\n",
        "    print(\"Note: You're currently using OptiX renderer. If an error occurred, set OptiX to False\")\n",
        "    renderer = \"OPTIX\"\n",
        "\n",
        "if gpu_enabled:\n",
        "  !cp /content/setgpu.py /content/$blender_version/"
      ],
      "metadata": {
        "id": "nFnxoGOXqg07",
        "cellView": "form"
      },
      "execution_count": null,
      "outputs": []
    },
    {
      "cell_type": "code",
      "source": [
        "#@title Render\n",
        "%cd /content/$blender_version\n",
        "\n",
        "if gdrive_output:\n",
        "  output_path = f'/content/drive/MyDrive/BlenderColab/{project_name}/rendered/{project_name}-###'\n",
        "else:\n",
        "  output_path = f'/content/{project_name}/rendered/{project_name}-###'\n",
        "\n",
        "if animation:\n",
        "    if start_frame == end_frame:\n",
        "        !./$blender_version/blender -b '/content/$project_name/blend/{blend_file}' -P setgpu.py -E CYCLES -o '{output_path}' -noaudio -a -- --cycles-device \"{renderer}\"\n",
        "    else:\n",
        "        !./$blender_version/blender -b '/content/$project_name/blend/{blend_file}' -P setgpu.py -E CYCLES -o '{output_path}' -noaudio -s $start_frame -e $end_frame -a -- --cycles-device \"{renderer}\"\n",
        "else:\n",
        "    !./$blender_version/blender -b '/content/$project_name/blend/{blend_file}' -P setgpu.py -E CYCLES -o '{output_path}' -noaudio -f $start_frame -- --cycles-device \"{renderer}\""
      ],
      "metadata": {
        "id": "TisfkRSXroPV",
        "cellView": "form"
      },
      "execution_count": null,
      "outputs": []
    }
  ]
}
